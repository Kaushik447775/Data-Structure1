{
 "cells": [
  {
   "cell_type": "markdown",
   "id": "c64ed201-73b4-49d9-9638-c60224bf8128",
   "metadata": {},
   "source": [
    "1.   What are data structures, and why are they important?\n",
    "Ans: Data structure is a way of organizing and storing data so that it can be accessed and manipulating efficiently.\n",
    "                 Data structures organize data elements logically and make code more easier to understand.\n",
    "\n",
    "2.   Explain the difference between mutable and immutable data types with examples.\n",
    "Ans: Objects whose state or value can be changed after they are created are called as mutable objects.\n",
    "     Example- List.\n",
    "\n",
    "        Objects whose state or value can not be changed after they are created are called as immutable objects.\n",
    "        Example- String, Tuples.\n",
    "\n",
    "3.   What are the main differences between lists and tuples in Python?\n",
    "Ans: (i)  Lists are mutable data structure and tuples are immutable data structure.\n",
    "     (ii) Lists can be modified and tuples can not be modified.\n",
    "\n",
    "4.   Describe how dictionaries store data?\n",
    "Ans: Dictionery is a data structure that store data as key value pair.\n",
    "\n",
    "5.   Why might you use a set instead of a list in Python?\n",
    "Ans: We use the set because it allow a lot of operations.\n",
    "\n",
    "6.   What is a string in Python, and how is it different from a list?\n",
    "Ans: String is a sequence of character that represent and manipulate textual data.\n",
    "                    String is immutable where list is mutable data structure.\n",
    "\n",
    "7.   How do tuples ensure data integrity in Python?\n",
    "Ans: Tuples are immutable so we can not modify the data.\n",
    "\n",
    "8.   What is a hash table, and how does it relate to dictionaries in Python?\n",
    "Ans: Hash table is a data structure that stores key-value pairs in an array format. That means each data value having a unique index value.\n",
    "                  Python dictioneries are made using hash tables.\n",
    "\n",
    "9.   Can lists contain different data types in Python?\n",
    "Ans: Yes, lists contain different data types in python.\n",
    "\n",
    "10.  Explain why strings are immutable in Python?\n",
    "Ans: Strings are immutable in python so that programmers can not change the content of the objects.\n",
    "\n",
    "11.  What advantages do dictionaries offer over lists for certain tasks?\n",
    "Ans: Dictioneries make code more easier if we need key-value pair than lists.\n",
    "\n",
    "12.  Describe a scenario where using a tuple would be preferable over a list?\n",
    "Ans: Tuple would be preferable over a list if we need an immutable data where the elements would not change after creation.\n",
    "\n",
    "13.  How do sets handle duplicate values in Python?\n",
    "Ans: Sets are unordered and unique collection of elements. So it does not allow duplicate values.\n",
    "\n",
    "15.  Can you modify the elements of a tuple? Explain why or why not?\n",
    "Ans: No, we can not modify the elements of a tuple. Because it is immutable.\n",
    "\n",
    "16.  What is a nested dictionary, and give an example of its use case?\n",
    "Ans: Nested dictionery is a dictionery that contains other dictioneries.\n",
    "     Example- Employee records.\n",
    "\n",
    "18.  In what situations are lists preferred over dictionaries?\n",
    "Ans: Lists are preferred over dictioneries for the ordered collection of data.\n",
    "\n",
    "20.  Explain the difference between a list and a dictionary in terms of data retrieval.\n",
    "Ans: (i)  List is an ordered collection of items whereas dictionery is a unordered data collection in a key-value pair.\n",
    "     (ii) Elements of the list can be accessed using index number while elements of the dictionery can be accessed using keys.\n",
    "\n",
    "     \n",
    "\n",
    "       "
   ]
  },
  {
   "cell_type": "markdown",
   "id": "b74cfc5b-f475-4c34-8dc4-e71705eb7d65",
   "metadata": {},
   "source": [
    "# Practical Questions:-\n"
   ]
  },
  {
   "cell_type": "code",
   "execution_count": 23,
   "id": "71de8110-d49b-49e3-9c85-5f76f1e48689",
   "metadata": {},
   "outputs": [
    {
     "name": "stdout",
     "output_type": "stream",
     "text": [
      "Kaushik Sutradhar\n"
     ]
    }
   ],
   "source": [
    "#1. Write a code to create a string with your name and print it.\n",
    "\n",
    "Name = \"Kaushik Sutradhar\"\n",
    "print (Name)"
   ]
  },
  {
   "cell_type": "code",
   "execution_count": 31,
   "id": "9f0e0d07-f285-4e8a-ba05-5df87624cefd",
   "metadata": {},
   "outputs": [
    {
     "data": {
      "text/plain": [
       "11"
      ]
     },
     "execution_count": 31,
     "metadata": {},
     "output_type": "execute_result"
    }
   ],
   "source": [
    "#2. Write a code to find the length of the string \"Hello World\".\n",
    "\n",
    "string1 = \"Hello World\"\n",
    "len (string1)"
   ]
  },
  {
   "cell_type": "code",
   "execution_count": 35,
   "id": "0ba81baa-0d78-429d-9086-1c9cf5c20c22",
   "metadata": {},
   "outputs": [
    {
     "data": {
      "text/plain": [
       "'Pyt'"
      ]
     },
     "execution_count": 35,
     "metadata": {},
     "output_type": "execute_result"
    }
   ],
   "source": [
    "#3. Write a code to slice the first 3 characters from the string \"Python Programming\".\n",
    "\n",
    "Course = \"Python Programming\"\n",
    "Course [0 : 3]"
   ]
  },
  {
   "cell_type": "code",
   "execution_count": 37,
   "id": "0008574e-4da0-4a47-beae-0de0ecf42a6d",
   "metadata": {},
   "outputs": [
    {
     "data": {
      "text/plain": [
       "'HELLO'"
      ]
     },
     "execution_count": 37,
     "metadata": {},
     "output_type": "execute_result"
    }
   ],
   "source": [
    "#4. Write a code to convert the string \"hello\" to uppercase.\n",
    "\n",
    "Text = \"hello\"\n",
    "Text . upper ()"
   ]
  },
  {
   "cell_type": "code",
   "execution_count": 55,
   "id": "62deb46e-5528-4e7c-8632-0f4e072cff7f",
   "metadata": {},
   "outputs": [
    {
     "data": {
      "text/plain": [
       "'I like orange'"
      ]
     },
     "execution_count": 55,
     "metadata": {},
     "output_type": "execute_result"
    }
   ],
   "source": [
    "#5. Write a code to replace the word \"apple\" with \"orange\" in the string \"I like apple\".\n",
    "\n",
    "String2 = \"I like apple\"\n",
    "String2.replace (\"apple\",\"orange\")"
   ]
  },
  {
   "cell_type": "code",
   "execution_count": 57,
   "id": "e4faa88b-3039-41a3-ad3a-184a5c97c649",
   "metadata": {},
   "outputs": [
    {
     "name": "stdout",
     "output_type": "stream",
     "text": [
      "[1, 2, 3, 4, 5]\n"
     ]
    }
   ],
   "source": [
    "#6. Write a code to create a list with numbers 1 to 5 and print it.\n",
    "\n",
    "Numbers = [1, 2, 3, 4, 5]\n",
    "print (Numbers)"
   ]
  },
  {
   "cell_type": "code",
   "execution_count": 65,
   "id": "4eeb9bfc-d41a-46be-aa4b-bfdba89b9d7f",
   "metadata": {},
   "outputs": [
    {
     "data": {
      "text/plain": [
       "[1, 2, 3, 4, 10]"
      ]
     },
     "execution_count": 65,
     "metadata": {},
     "output_type": "execute_result"
    }
   ],
   "source": [
    "#7. Write a code to append the number 10 to the list [1, 2, 3, 4].\n",
    "\n",
    "Number = [1, 2, 3, 4]\n",
    "Number.append (10)\n",
    "Number"
   ]
  },
  {
   "cell_type": "code",
   "execution_count": 67,
   "id": "78bd6b62-5ba8-41fd-9404-4e59f3b46b28",
   "metadata": {},
   "outputs": [
    {
     "data": {
      "text/plain": [
       "[1, 2, 4, 5]"
      ]
     },
     "execution_count": 67,
     "metadata": {},
     "output_type": "execute_result"
    }
   ],
   "source": [
    "#8. Write a code to remove the number 3 from the list [1, 2, 3, 4, 5].\n",
    "\n",
    "List1 = [1, 2, 3, 4, 5]\n",
    "List1.remove (3)\n",
    "List1"
   ]
  },
  {
   "cell_type": "code",
   "execution_count": 77,
   "id": "1ffc473a-353b-499e-bcb6-94bf6f565faf",
   "metadata": {},
   "outputs": [
    {
     "data": {
      "text/plain": [
       "'b'"
      ]
     },
     "execution_count": 77,
     "metadata": {},
     "output_type": "execute_result"
    }
   ],
   "source": [
    "#9. Write a code to access the second element in the list ['a', 'b', 'c', 'd'].\n",
    "\n",
    "List2 = ['a', 'b', 'c', 'd']\n",
    "List2 [1]"
   ]
  },
  {
   "cell_type": "code",
   "execution_count": 79,
   "id": "47793da3-6aeb-4785-adce-0f53216b35c6",
   "metadata": {},
   "outputs": [
    {
     "data": {
      "text/plain": [
       "[50, 40, 30, 20, 10]"
      ]
     },
     "execution_count": 79,
     "metadata": {},
     "output_type": "execute_result"
    }
   ],
   "source": [
    "#10. Write a code to reverse the list [10, 20, 30, 40, 50].\n",
    "\n",
    "List3 = [10, 20, 30, 40, 50]\n",
    "List3 [: : -1]"
   ]
  },
  {
   "cell_type": "code",
   "execution_count": 83,
   "id": "96913b1d-2741-4c6a-ba28-a686cd20439a",
   "metadata": {},
   "outputs": [
    {
     "name": "stdout",
     "output_type": "stream",
     "text": [
      "(10, 20, 30)\n"
     ]
    }
   ],
   "source": [
    "#11. Write a code to create a tuple with the elements 10, 20, 30 and print it.\n",
    "\n",
    "Num = (10, 20, 30)\n",
    "print (Num)"
   ]
  },
  {
   "cell_type": "code",
   "execution_count": 87,
   "id": "d779c269-7128-4055-a357-b51ae3aa3d87",
   "metadata": {},
   "outputs": [
    {
     "data": {
      "text/plain": [
       "'apple'"
      ]
     },
     "execution_count": 87,
     "metadata": {},
     "output_type": "execute_result"
    }
   ],
   "source": [
    "#12. Write a code to access the first element of the tuple ('apple', 'banana', 'cherry').\n",
    "\n",
    "Fruits = ('apple', 'banana', 'cherry')\n",
    "Fruits [0]"
   ]
  },
  {
   "cell_type": "code",
   "execution_count": 89,
   "id": "940eb068-56b6-44da-b45f-906ee0bc3183",
   "metadata": {},
   "outputs": [
    {
     "data": {
      "text/plain": [
       "3"
      ]
     },
     "execution_count": 89,
     "metadata": {},
     "output_type": "execute_result"
    }
   ],
   "source": [
    "#13.  Write a code to count how many times the number 2 appears in the tuple (1, 2, 3, 2, 4, 2).\n",
    "\n",
    "Numbers = (1, 2, 3, 2, 4, 2)\n",
    "Numbers.count (2)"
   ]
  },
  {
   "cell_type": "code",
   "execution_count": 19,
   "id": "bff8631b-607d-4c5f-a85a-717034e5f641",
   "metadata": {},
   "outputs": [
    {
     "data": {
      "text/plain": [
       "1"
      ]
     },
     "execution_count": 19,
     "metadata": {},
     "output_type": "execute_result"
    }
   ],
   "source": [
    "#14. Write a code to find the index of the element \"cat\" in the tuple ('dog', 'cat', 'rabbit').\n",
    "\n",
    "Animals = ('dog', 'cat', 'rabbit')\n",
    "Animals.index (\"cat\")"
   ]
  },
  {
   "cell_type": "code",
   "execution_count": 21,
   "id": "e9b306cf-b67f-4931-82da-580320efbb05",
   "metadata": {},
   "outputs": [
    {
     "data": {
      "text/plain": [
       "True"
      ]
     },
     "execution_count": 21,
     "metadata": {},
     "output_type": "execute_result"
    }
   ],
   "source": [
    "#15. Write a code to check if the element \"banana\" is in the tuple ('apple', 'orange', 'banana').\n",
    "\n",
    "Fruit_list = ('apple', 'orange', 'banana')\n",
    "\"banana\" in Fruit_list"
   ]
  },
  {
   "cell_type": "code",
   "execution_count": 31,
   "id": "0c6e42a2-7d94-4bf9-9797-241e6a950b87",
   "metadata": {},
   "outputs": [
    {
     "name": "stdout",
     "output_type": "stream",
     "text": [
      "1 2 3 4 5 "
     ]
    }
   ],
   "source": [
    "#16. Write a code to create a set with the elements 1, 2, 3, 4, 5 and print it.\n",
    "\n",
    "Elements = {1, 2, 3, 4, 5}\n",
    "for i in Elements:\n",
    "    print (i, end=\" \")"
   ]
  },
  {
   "cell_type": "code",
   "execution_count": 33,
   "id": "4a08da82-857f-42f0-8d2e-6b81525c0848",
   "metadata": {},
   "outputs": [
    {
     "data": {
      "text/plain": [
       "{1, 2, 3, 4, 6}"
      ]
     },
     "execution_count": 33,
     "metadata": {},
     "output_type": "execute_result"
    }
   ],
   "source": [
    "#17. Write a code to add the element 6 to the set {1, 2, 3, 4}.\n",
    "\n",
    "Numbers = {1, 2, 3, 4}\n",
    "Numbers.add (6)\n",
    "Numbers"
   ]
  },
  {
   "cell_type": "code",
   "execution_count": 35,
   "id": "ba71f2ed-2a5f-4005-9ef8-f699b6616930",
   "metadata": {},
   "outputs": [
    {
     "name": "stdout",
     "output_type": "stream",
     "text": [
      "(10, 20, 30)\n"
     ]
    }
   ],
   "source": [
    "#18. Write a code to create a tuple with the elements 10, 20, 30 and print it.\n",
    "\n",
    "Tuples = (10, 20, 30)\n",
    "print (Tuples)"
   ]
  },
  {
   "cell_type": "code",
   "execution_count": 37,
   "id": "954d235a-e402-4c0e-ab1f-a3ce1794eac5",
   "metadata": {},
   "outputs": [
    {
     "data": {
      "text/plain": [
       "'apple'"
      ]
     },
     "execution_count": 37,
     "metadata": {},
     "output_type": "execute_result"
    }
   ],
   "source": [
    "#19. Write a code to access the first element of the tuple ('apple', 'banana', 'cherry').\n",
    "\n",
    "Fruits = ('apple', 'banana', 'cherry')\n",
    "Fruits [0]"
   ]
  },
  {
   "cell_type": "code",
   "execution_count": 39,
   "id": "9223beba-d8e8-4c7b-91fd-6418247e5081",
   "metadata": {},
   "outputs": [
    {
     "data": {
      "text/plain": [
       "3"
      ]
     },
     "execution_count": 39,
     "metadata": {},
     "output_type": "execute_result"
    }
   ],
   "source": [
    "#20. Write a code to count how many times the number 2 appears in the tuple (1, 2, 3, 2, 4, 2).\n",
    "\n",
    "Num_list = (1, 2, 3, 2, 4, 2)\n",
    "Num_list.count (2)"
   ]
  },
  {
   "cell_type": "code",
   "execution_count": 41,
   "id": "953deec1-1bca-470e-a326-a92e076c868d",
   "metadata": {},
   "outputs": [
    {
     "data": {
      "text/plain": [
       "1"
      ]
     },
     "execution_count": 41,
     "metadata": {},
     "output_type": "execute_result"
    }
   ],
   "source": [
    "#21. Write a code to find the index of the element \"cat\" in the tuple ('dog', 'cat', 'rabbit').\n",
    "\n",
    "Animal_list = ('dog', 'cat', 'rabbit')\n",
    "Animal_list.index (\"cat\")"
   ]
  },
  {
   "cell_type": "code",
   "execution_count": 43,
   "id": "f2114a03-5035-42f0-92aa-eb2278b07b37",
   "metadata": {},
   "outputs": [
    {
     "data": {
      "text/plain": [
       "True"
      ]
     },
     "execution_count": 43,
     "metadata": {},
     "output_type": "execute_result"
    }
   ],
   "source": [
    "#22. Write a code to check if the element \"banana\" is in the tuple ('apple', 'orange', 'banana').\n",
    "\n",
    "Fruits = ('apple', 'orange', 'banana')\n",
    "\"banana\" in Fruits"
   ]
  },
  {
   "cell_type": "code",
   "execution_count": 45,
   "id": "f293c07d-4e50-4ac1-908f-e7be0798b5f6",
   "metadata": {},
   "outputs": [
    {
     "name": "stdout",
     "output_type": "stream",
     "text": [
      "{1, 2, 3, 4, 5}\n"
     ]
    }
   ],
   "source": [
    "#23. Write a code to create a set with the elements 1, 2, 3, 4, 5 and print it.\n",
    "\n",
    "Elements = {1, 2, 3, 4, 5}\n",
    "print (Elements)"
   ]
  },
  {
   "cell_type": "code",
   "execution_count": 49,
   "id": "d5fe5a18-4a3c-4726-b40a-46ad110de894",
   "metadata": {},
   "outputs": [
    {
     "data": {
      "text/plain": [
       "{1, 2, 3, 4, 6}"
      ]
     },
     "execution_count": 49,
     "metadata": {},
     "output_type": "execute_result"
    }
   ],
   "source": [
    "#24. Write a code to add the element 6 to the set {1, 2, 3, 4}.\n",
    "\n",
    "Numbers = {1, 2, 3, 4}\n",
    "Numbers.update ([6])\n",
    "Numbers"
   ]
  },
  {
   "cell_type": "code",
   "execution_count": null,
   "id": "2ca18ba8-8315-4ca6-aea1-9232d058f084",
   "metadata": {},
   "outputs": [],
   "source": []
  }
 ],
 "metadata": {
  "kernelspec": {
   "display_name": "Python 3 (ipykernel)",
   "language": "python",
   "name": "python3"
  },
  "language_info": {
   "codemirror_mode": {
    "name": "ipython",
    "version": 3
   },
   "file_extension": ".py",
   "mimetype": "text/x-python",
   "name": "python",
   "nbconvert_exporter": "python",
   "pygments_lexer": "ipython3",
   "version": "3.12.7"
  }
 },
 "nbformat": 4,
 "nbformat_minor": 5
}
